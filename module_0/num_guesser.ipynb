{
 "cells": [
  {
   "cell_type": "code",
   "execution_count": 1,
   "metadata": {},
   "outputs": [],
   "source": [
    "import numpy as np\n",
    "import math"
   ]
  },
  {
   "cell_type": "code",
   "execution_count": 2,
   "metadata": {},
   "outputs": [],
   "source": [
    "def game_core(number, lower_number=1, upper_number=100):\n",
    "    \"\"\" \n",
    "    \n",
    "    Функция ищет загаданное число, используя двочный поиск \n",
    "    Ф-ия ищет загаданное число в числовых границах от lower_number до upper_number\n",
    "    Число lower_number не должно быть больше, чем upper_number\n",
    "    Числа lower_number и upper_number - натуральные числа\n",
    "    \n",
    "    \"\"\"\n",
    "    count = 1\n",
    "    predict = math.ceil((upper_number-lower_number+1) / 2)\n",
    "    shift = math.ceil(predict/2)\n",
    "    while number != predict + lower_number:\n",
    "        count += 1\n",
    "        if number > predict + lower_number:\n",
    "            predict += shift\n",
    "            shift = math.ceil(shift/2)\n",
    "        else:\n",
    "            predict -= shift\n",
    "            shift = math.ceil(shift/2)\n",
    "    return count\n"
   ]
  },
  {
   "cell_type": "code",
   "execution_count": 3,
   "metadata": {},
   "outputs": [],
   "source": [
    "def score_game(game_core, repeat=1000, lower_number=1, upper_number=100):\n",
    "    \"\"\" \n",
    "    \n",
    "    Запускаем игру repeat раз, чтобы узнать, как быстро игра угадывает число\n",
    "    [lower_number:upper_number] - рабочий числовой диапазон\n",
    "    \n",
    "    \"\"\"\n",
    "    count_ls = []\n",
    "    np.random.seed(1)\n",
    "    random_array = np.random.randint(lower_number, upper_number+1, size=repeat)\n",
    "    for number in random_array:\n",
    "        count_ls.append(game_core(number, lower_number, upper_number))\n",
    "    score = int(np.mean(count_ls))\n",
    "    print(f\"Ваш алгоритм угадывает число в среднем за {score} попыток\")\n",
    "    return score\n"
   ]
  },
  {
   "cell_type": "code",
   "execution_count": 4,
   "metadata": {},
   "outputs": [
    {
     "name": "stdout",
     "output_type": "stream",
     "text": [
      "Ваш алгоритм угадывает число в среднем за 5 попыток\n"
     ]
    },
    {
     "data": {
      "text/plain": [
       "5"
      ]
     },
     "execution_count": 4,
     "metadata": {},
     "output_type": "execute_result"
    }
   ],
   "source": [
    "score_game(game_core)"
   ]
  }
 ],
 "metadata": {
  "kernelspec": {
   "display_name": "Python 3",
   "language": "python",
   "name": "python3"
  },
  "language_info": {
   "codemirror_mode": {
    "name": "ipython",
    "version": 3
   },
   "file_extension": ".py",
   "mimetype": "text/x-python",
   "name": "python",
   "nbconvert_exporter": "python",
   "pygments_lexer": "ipython3",
   "version": "3.7.7"
  }
 },
 "nbformat": 4,
 "nbformat_minor": 4
}
