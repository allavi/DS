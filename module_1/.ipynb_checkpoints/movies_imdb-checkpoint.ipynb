{
 "cells": [
  {
   "cell_type": "code",
   "execution_count": 1,
   "metadata": {
    "_cell_guid": "b1076dfc-b9ad-4769-8c92-a6c4dae69d19",
    "_uuid": "8f2839f25d086af736a60e9eeb907d3b93b6e0e5",
    "colab": {},
    "colab_type": "code",
    "id": "U2D2gTdJVp90"
   },
   "outputs": [],
   "source": [
    "import numpy as np\n",
    "import pandas as pd\n",
    "import seaborn as sns\n",
    "import calendar\n",
    "import matplotlib.pyplot as plt\n",
    "from collections import Counter"
   ]
  },
  {
   "cell_type": "code",
   "execution_count": 2,
   "metadata": {
    "_cell_guid": "79c7e3d0-c299-4dcb-8224-4455121ee9b0",
    "_uuid": "d629ff2d2480ee46fbb7e2d37f6b5fab8052498a",
    "colab": {},
    "colab_type": "code",
    "id": "oyGfxL3eVp9-"
   },
   "outputs": [
    {
     "data": {
      "text/html": [
       "<div>\n",
       "<style scoped>\n",
       "    .dataframe tbody tr th:only-of-type {\n",
       "        vertical-align: middle;\n",
       "    }\n",
       "\n",
       "    .dataframe tbody tr th {\n",
       "        vertical-align: top;\n",
       "    }\n",
       "\n",
       "    .dataframe thead th {\n",
       "        text-align: right;\n",
       "    }\n",
       "</style>\n",
       "<table border=\"1\" class=\"dataframe\">\n",
       "  <thead>\n",
       "    <tr style=\"text-align: right;\">\n",
       "      <th></th>\n",
       "      <th>imdb_id</th>\n",
       "      <th>budget</th>\n",
       "      <th>revenue</th>\n",
       "      <th>original_title</th>\n",
       "      <th>cast</th>\n",
       "      <th>director</th>\n",
       "      <th>tagline</th>\n",
       "      <th>overview</th>\n",
       "      <th>runtime</th>\n",
       "      <th>genres</th>\n",
       "      <th>production_companies</th>\n",
       "      <th>release_date</th>\n",
       "      <th>vote_average</th>\n",
       "      <th>release_year</th>\n",
       "    </tr>\n",
       "  </thead>\n",
       "  <tbody>\n",
       "    <tr>\n",
       "      <th>1863</th>\n",
       "      <td>tt0219653</td>\n",
       "      <td>28000000</td>\n",
       "      <td>33000337</td>\n",
       "      <td>Dracula 2000</td>\n",
       "      <td>Gerard Butler|Christopher Plummer|Jonny Lee Mi...</td>\n",
       "      <td>Patrick Lussier</td>\n",
       "      <td>The Most Seductive Evil of All Time Has Now Be...</td>\n",
       "      <td>In the millenium version of this classic Gothi...</td>\n",
       "      <td>99</td>\n",
       "      <td>Horror|Thriller</td>\n",
       "      <td>Neo Art &amp; Logic|Dimension Films|Wes Craven Films</td>\n",
       "      <td>12/22/2000</td>\n",
       "      <td>4.7</td>\n",
       "      <td>2000</td>\n",
       "    </tr>\n",
       "    <tr>\n",
       "      <th>250</th>\n",
       "      <td>tt0409459</td>\n",
       "      <td>130000000</td>\n",
       "      <td>185258983</td>\n",
       "      <td>Watchmen</td>\n",
       "      <td>Malin Ã…kerman|Billy Crudup|Carla Gugino|Jeffr...</td>\n",
       "      <td>Zack Snyder</td>\n",
       "      <td>Justice is coming to all of us.  No matter wha...</td>\n",
       "      <td>In a gritty and alternate 1985 the glory days ...</td>\n",
       "      <td>162</td>\n",
       "      <td>Action|Mystery|Science Fiction</td>\n",
       "      <td>Paramount Pictures|DC Comics|Lawrence Gordon P...</td>\n",
       "      <td>3/5/2009</td>\n",
       "      <td>6.8</td>\n",
       "      <td>2009</td>\n",
       "    </tr>\n",
       "    <tr>\n",
       "      <th>42</th>\n",
       "      <td>tt3072482</td>\n",
       "      <td>10000000</td>\n",
       "      <td>14333790</td>\n",
       "      <td>Hardcore Henry</td>\n",
       "      <td>Sharlto Copley|Haley Bennett|Danila Kozlovskiy...</td>\n",
       "      <td>Ilya Naishuller</td>\n",
       "      <td>First they made him dangerous. Then they made ...</td>\n",
       "      <td>Henry, a newly resurrected cyborg who must sav...</td>\n",
       "      <td>97</td>\n",
       "      <td>Action|Adventure|Science Fiction</td>\n",
       "      <td>Bazelevs Production|Versus Pictures</td>\n",
       "      <td>9/12/2015</td>\n",
       "      <td>5.9</td>\n",
       "      <td>2015</td>\n",
       "    </tr>\n",
       "    <tr>\n",
       "      <th>637</th>\n",
       "      <td>tt1068680</td>\n",
       "      <td>70000000</td>\n",
       "      <td>225990978</td>\n",
       "      <td>Yes Man</td>\n",
       "      <td>Jim Carrey|Zooey Deschanel|Rhys Darby|Sasha Al...</td>\n",
       "      <td>Peyton Reed</td>\n",
       "      <td>One Word Can Change Everything.</td>\n",
       "      <td>Carl Allen has stumbled across a way to shake ...</td>\n",
       "      <td>104</td>\n",
       "      <td>Comedy|Romance</td>\n",
       "      <td>The Zanuck Company|Heyday films|Warner Bros.</td>\n",
       "      <td>12/9/2008</td>\n",
       "      <td>6.3</td>\n",
       "      <td>2008</td>\n",
       "    </tr>\n",
       "    <tr>\n",
       "      <th>305</th>\n",
       "      <td>tt0433362</td>\n",
       "      <td>20000000</td>\n",
       "      <td>51416464</td>\n",
       "      <td>Daybreakers</td>\n",
       "      <td>Ethan Hawke|Sam Neill|Willem Dafoe|Claudia Kar...</td>\n",
       "      <td>Michael Spierig|Peter Spierig</td>\n",
       "      <td>In 2019, The Most Precious Natural Resource......</td>\n",
       "      <td>In the year 2019, a plague has transformed alm...</td>\n",
       "      <td>98</td>\n",
       "      <td>Fantasy|Horror|Action|Thriller|Science Fiction</td>\n",
       "      <td>Lionsgate|Furst Films|Pictures in Paradise|Pac...</td>\n",
       "      <td>1/6/2009</td>\n",
       "      <td>5.9</td>\n",
       "      <td>2009</td>\n",
       "    </tr>\n",
       "  </tbody>\n",
       "</table>\n",
       "</div>"
      ],
      "text/plain": [
       "        imdb_id     budget    revenue  original_title  \\\n",
       "1863  tt0219653   28000000   33000337    Dracula 2000   \n",
       "250   tt0409459  130000000  185258983        Watchmen   \n",
       "42    tt3072482   10000000   14333790  Hardcore Henry   \n",
       "637   tt1068680   70000000  225990978         Yes Man   \n",
       "305   tt0433362   20000000   51416464     Daybreakers   \n",
       "\n",
       "                                                   cast  \\\n",
       "1863  Gerard Butler|Christopher Plummer|Jonny Lee Mi...   \n",
       "250   Malin Ã…kerman|Billy Crudup|Carla Gugino|Jeffr...   \n",
       "42    Sharlto Copley|Haley Bennett|Danila Kozlovskiy...   \n",
       "637   Jim Carrey|Zooey Deschanel|Rhys Darby|Sasha Al...   \n",
       "305   Ethan Hawke|Sam Neill|Willem Dafoe|Claudia Kar...   \n",
       "\n",
       "                           director  \\\n",
       "1863                Patrick Lussier   \n",
       "250                     Zack Snyder   \n",
       "42                  Ilya Naishuller   \n",
       "637                     Peyton Reed   \n",
       "305   Michael Spierig|Peter Spierig   \n",
       "\n",
       "                                                tagline  \\\n",
       "1863  The Most Seductive Evil of All Time Has Now Be...   \n",
       "250   Justice is coming to all of us.  No matter wha...   \n",
       "42    First they made him dangerous. Then they made ...   \n",
       "637                     One Word Can Change Everything.   \n",
       "305   In 2019, The Most Precious Natural Resource......   \n",
       "\n",
       "                                               overview  runtime  \\\n",
       "1863  In the millenium version of this classic Gothi...       99   \n",
       "250   In a gritty and alternate 1985 the glory days ...      162   \n",
       "42    Henry, a newly resurrected cyborg who must sav...       97   \n",
       "637   Carl Allen has stumbled across a way to shake ...      104   \n",
       "305   In the year 2019, a plague has transformed alm...       98   \n",
       "\n",
       "                                              genres  \\\n",
       "1863                                 Horror|Thriller   \n",
       "250                   Action|Mystery|Science Fiction   \n",
       "42                  Action|Adventure|Science Fiction   \n",
       "637                                   Comedy|Romance   \n",
       "305   Fantasy|Horror|Action|Thriller|Science Fiction   \n",
       "\n",
       "                                   production_companies release_date  \\\n",
       "1863   Neo Art & Logic|Dimension Films|Wes Craven Films   12/22/2000   \n",
       "250   Paramount Pictures|DC Comics|Lawrence Gordon P...     3/5/2009   \n",
       "42                  Bazelevs Production|Versus Pictures    9/12/2015   \n",
       "637        The Zanuck Company|Heyday films|Warner Bros.    12/9/2008   \n",
       "305   Lionsgate|Furst Films|Pictures in Paradise|Pac...     1/6/2009   \n",
       "\n",
       "      vote_average  release_year  \n",
       "1863           4.7          2000  \n",
       "250            6.8          2009  \n",
       "42             5.9          2015  \n",
       "637            6.3          2008  \n",
       "305            5.9          2009  "
      ]
     },
     "execution_count": 2,
     "metadata": {},
     "output_type": "execute_result"
    }
   ],
   "source": [
    "data = pd.read_csv('movie_bd_v5.csv.xls')\n",
    "data.sample(5)"
   ]
  },
  {
   "cell_type": "code",
   "execution_count": 3,
   "metadata": {
    "colab": {},
    "colab_type": "code",
    "id": "CoYUnagMVp-C"
   },
   "outputs": [
    {
     "data": {
      "text/html": [
       "<div>\n",
       "<style scoped>\n",
       "    .dataframe tbody tr th:only-of-type {\n",
       "        vertical-align: middle;\n",
       "    }\n",
       "\n",
       "    .dataframe tbody tr th {\n",
       "        vertical-align: top;\n",
       "    }\n",
       "\n",
       "    .dataframe thead th {\n",
       "        text-align: right;\n",
       "    }\n",
       "</style>\n",
       "<table border=\"1\" class=\"dataframe\">\n",
       "  <thead>\n",
       "    <tr style=\"text-align: right;\">\n",
       "      <th></th>\n",
       "      <th>budget</th>\n",
       "      <th>revenue</th>\n",
       "      <th>runtime</th>\n",
       "      <th>vote_average</th>\n",
       "      <th>release_year</th>\n",
       "    </tr>\n",
       "  </thead>\n",
       "  <tbody>\n",
       "    <tr>\n",
       "      <th>count</th>\n",
       "      <td>1.889000e+03</td>\n",
       "      <td>1.889000e+03</td>\n",
       "      <td>1889.000000</td>\n",
       "      <td>1889.000000</td>\n",
       "      <td>1889.000000</td>\n",
       "    </tr>\n",
       "    <tr>\n",
       "      <th>mean</th>\n",
       "      <td>5.431083e+07</td>\n",
       "      <td>1.553653e+08</td>\n",
       "      <td>109.658549</td>\n",
       "      <td>6.140762</td>\n",
       "      <td>2007.860773</td>\n",
       "    </tr>\n",
       "    <tr>\n",
       "      <th>std</th>\n",
       "      <td>4.858721e+07</td>\n",
       "      <td>2.146698e+08</td>\n",
       "      <td>18.017041</td>\n",
       "      <td>0.764763</td>\n",
       "      <td>4.468841</td>\n",
       "    </tr>\n",
       "    <tr>\n",
       "      <th>min</th>\n",
       "      <td>5.000000e+06</td>\n",
       "      <td>2.033165e+06</td>\n",
       "      <td>63.000000</td>\n",
       "      <td>3.300000</td>\n",
       "      <td>2000.000000</td>\n",
       "    </tr>\n",
       "    <tr>\n",
       "      <th>25%</th>\n",
       "      <td>2.000000e+07</td>\n",
       "      <td>3.456058e+07</td>\n",
       "      <td>97.000000</td>\n",
       "      <td>5.600000</td>\n",
       "      <td>2004.000000</td>\n",
       "    </tr>\n",
       "    <tr>\n",
       "      <th>50%</th>\n",
       "      <td>3.800000e+07</td>\n",
       "      <td>8.361541e+07</td>\n",
       "      <td>107.000000</td>\n",
       "      <td>6.100000</td>\n",
       "      <td>2008.000000</td>\n",
       "    </tr>\n",
       "    <tr>\n",
       "      <th>75%</th>\n",
       "      <td>7.200000e+07</td>\n",
       "      <td>1.782626e+08</td>\n",
       "      <td>120.000000</td>\n",
       "      <td>6.600000</td>\n",
       "      <td>2012.000000</td>\n",
       "    </tr>\n",
       "    <tr>\n",
       "      <th>max</th>\n",
       "      <td>3.800000e+08</td>\n",
       "      <td>2.781506e+09</td>\n",
       "      <td>214.000000</td>\n",
       "      <td>8.100000</td>\n",
       "      <td>2015.000000</td>\n",
       "    </tr>\n",
       "  </tbody>\n",
       "</table>\n",
       "</div>"
      ],
      "text/plain": [
       "             budget       revenue      runtime  vote_average  release_year\n",
       "count  1.889000e+03  1.889000e+03  1889.000000   1889.000000   1889.000000\n",
       "mean   5.431083e+07  1.553653e+08   109.658549      6.140762   2007.860773\n",
       "std    4.858721e+07  2.146698e+08    18.017041      0.764763      4.468841\n",
       "min    5.000000e+06  2.033165e+06    63.000000      3.300000   2000.000000\n",
       "25%    2.000000e+07  3.456058e+07    97.000000      5.600000   2004.000000\n",
       "50%    3.800000e+07  8.361541e+07   107.000000      6.100000   2008.000000\n",
       "75%    7.200000e+07  1.782626e+08   120.000000      6.600000   2012.000000\n",
       "max    3.800000e+08  2.781506e+09   214.000000      8.100000   2015.000000"
      ]
     },
     "execution_count": 3,
     "metadata": {},
     "output_type": "execute_result"
    }
   ],
   "source": [
    "data.describe()"
   ]
  },
  {
   "cell_type": "markdown",
   "metadata": {
    "colab_type": "text",
    "id": "DTIt7ezGVp-G"
   },
   "source": [
    "# Preprocessing"
   ]
  },
  {
   "cell_type": "code",
   "execution_count": 4,
   "metadata": {
    "colab": {},
    "colab_type": "code",
    "id": "jNb40DwKVp-H"
   },
   "outputs": [],
   "source": [
    "answers = {}  # dict for answers\n",
    "\n",
    "\n",
    "def seasons_converter(month):\n",
    "    \"\"\" converts a number to season \"\"\"\n",
    "    winter = [12, 1, 2]\n",
    "    summer = [6, 7, 8]\n",
    "    spring = [3, 4, 5]\n",
    "    autumn = [9, 10, 11]\n",
    "\n",
    "    if month in winter:\n",
    "        return 'Winter'\n",
    "    elif month in summer:\n",
    "        return 'Summer'\n",
    "    elif month in spring:\n",
    "        return 'Spring'\n",
    "    elif month in autumn:\n",
    "        return 'Autumn'\n",
    "\n",
    "    return ''\n",
    "\n",
    "\n",
    "data['profit'] = data.apply(lambda row: row.revenue - row.budget, axis=1)\n",
    "data['month'] = data.apply(\n",
    "    lambda row: calendar.month_name[int(row.release_date.split('/')[0])], axis=1)\n",
    "data['season'] = data.apply(lambda row: seasons_converter(\n",
    "    int(row.release_date.split('/')[0])), axis=1)\n",
    "data['name_length'] = data.apply(lambda row: len(row.original_title), axis=1)\n",
    "data['overview_length'] = data.apply(\n",
    "    lambda row: len(row.overview.split()), axis=1)"
   ]
  },
  {
   "cell_type": "markdown",
   "metadata": {
    "colab_type": "text",
    "id": "YxZaH-nPVp-L"
   },
   "source": [
    "# 1. У какого фильма из списка самый большой бюджет?"
   ]
  },
  {
   "cell_type": "code",
   "execution_count": 5,
   "metadata": {
    "colab": {},
    "colab_type": "code",
    "id": "uVnXAY5RVp-O"
   },
   "outputs": [],
   "source": [
    "answers['1'] = '5. Pirates of the Caribbean: On Stranger Tides (tt1298650)'"
   ]
  },
  {
   "cell_type": "code",
   "execution_count": 6,
   "metadata": {
    "colab": {},
    "colab_type": "code",
    "id": "dZwb3m28Vp-S"
   },
   "outputs": [
    {
     "name": "stdout",
     "output_type": "stream",
     "text": [
      "Pirates of the Caribbean: On Stranger Tides (tt1298650)\n"
     ]
    }
   ],
   "source": [
    "biggest_budget_movie = data[data.budget == data.budget.max()]\n",
    "\n",
    "answer = \"%s (%s)\" % (str(biggest_budget_movie.original_title.item()), str(\n",
    "    biggest_budget_movie.imdb_id.item()))\n",
    "\n",
    "print(answer)"
   ]
  },
  {
   "cell_type": "markdown",
   "metadata": {
    "colab_type": "text",
    "id": "FNRbbI3vVp-c"
   },
   "source": [
    "# 2. Какой из фильмов самый длительный (в минутах)?"
   ]
  },
  {
   "cell_type": "code",
   "execution_count": 7,
   "metadata": {
    "colab": {},
    "colab_type": "code",
    "id": "vHAoEXNTVp-d"
   },
   "outputs": [],
   "source": [
    "answers['2'] = '2. Gods and Generals (tt0279111)'"
   ]
  },
  {
   "cell_type": "code",
   "execution_count": 8,
   "metadata": {
    "colab": {},
    "colab_type": "code",
    "id": "ot-VX2XrVp-g"
   },
   "outputs": [
    {
     "name": "stdout",
     "output_type": "stream",
     "text": [
      "Gods and Generals (tt0279111)\n"
     ]
    }
   ],
   "source": [
    "longest_movie = data[data.runtime == data.runtime.max()]\n",
    "\n",
    "answer = \"%s (%s)\" % (str(longest_movie.original_title.item()),\n",
    "                      str(longest_movie.imdb_id.item()))\n",
    "\n",
    "print(answer)"
   ]
  },
  {
   "cell_type": "markdown",
   "metadata": {
    "colab_type": "text",
    "id": "bapLlpW8Vp-k"
   },
   "source": [
    "# 3. Какой из фильмов самый короткий (в минутах)?\n",
    "\n",
    "\n",
    "\n"
   ]
  },
  {
   "cell_type": "code",
   "execution_count": 9,
   "metadata": {
    "colab": {},
    "colab_type": "code",
    "id": "YBxaSHuAVp-l"
   },
   "outputs": [],
   "source": [
    "answers['3'] = '3. Winnie the Pooh (tt1449283)'"
   ]
  },
  {
   "cell_type": "code",
   "execution_count": 10,
   "metadata": {},
   "outputs": [
    {
     "name": "stdout",
     "output_type": "stream",
     "text": [
      "Winnie the Pooh (tt1449283)\n"
     ]
    }
   ],
   "source": [
    "shortest_movie = data[data.runtime == data.runtime.min()]\n",
    "\n",
    "answer = \"%s (%s)\" % (str(shortest_movie.original_title.item()),\n",
    "                      str(shortest_movie.imdb_id.item()))\n",
    "\n",
    "print(answer)"
   ]
  },
  {
   "cell_type": "markdown",
   "metadata": {
    "colab_type": "text",
    "id": "TfQbxbfNVp-p"
   },
   "source": [
    "# 4. Какова средняя длительность фильмов?\n"
   ]
  },
  {
   "cell_type": "code",
   "execution_count": 11,
   "metadata": {
    "colab": {},
    "colab_type": "code",
    "id": "5K6dKZYVVp-q"
   },
   "outputs": [],
   "source": [
    "answers['4'] = '2. 110'"
   ]
  },
  {
   "cell_type": "code",
   "execution_count": 12,
   "metadata": {},
   "outputs": [
    {
     "name": "stdout",
     "output_type": "stream",
     "text": [
      "110\n"
     ]
    }
   ],
   "source": [
    "average_movie_length = data.runtime.mean()\n",
    "\n",
    "print(round(average_movie_length))"
   ]
  },
  {
   "cell_type": "markdown",
   "metadata": {
    "colab_type": "text",
    "id": "r5TvbnT_Vp-u"
   },
   "source": [
    "# 5. Каково медианное значение длительности фильмов? "
   ]
  },
  {
   "cell_type": "code",
   "execution_count": 13,
   "metadata": {
    "colab": {},
    "colab_type": "code",
    "id": "iBROplKnVp-v"
   },
   "outputs": [],
   "source": [
    "answers['5'] = '1. 107'"
   ]
  },
  {
   "cell_type": "code",
   "execution_count": 14,
   "metadata": {},
   "outputs": [
    {
     "name": "stdout",
     "output_type": "stream",
     "text": [
      "107\n"
     ]
    }
   ],
   "source": [
    "median_movie_length = data.runtime.median()\n",
    "\n",
    "print(int(median_movie_length))"
   ]
  },
  {
   "cell_type": "markdown",
   "metadata": {
    "colab_type": "text",
    "id": "39P-deDSVp-y"
   },
   "source": [
    "# 6. Какой самый прибыльный фильм?"
   ]
  },
  {
   "cell_type": "code",
   "execution_count": 15,
   "metadata": {
    "colab": {},
    "colab_type": "code",
    "id": "UYZh4T9WVp-y"
   },
   "outputs": [],
   "source": [
    "answers['6'] = '5. Avatar (tt0499549)'"
   ]
  },
  {
   "cell_type": "code",
   "execution_count": 16,
   "metadata": {},
   "outputs": [
    {
     "name": "stdout",
     "output_type": "stream",
     "text": [
      "Avatar (tt0499549)\n"
     ]
    }
   ],
   "source": [
    "most_profitable_movie = data[data.profit == data.profit.max()]\n",
    "\n",
    "answer = \"%s (%s)\" % (str(most_profitable_movie.original_title.item()), str(\n",
    "    most_profitable_movie.imdb_id.item()))\n",
    "\n",
    "print(answer)"
   ]
  },
  {
   "cell_type": "markdown",
   "metadata": {
    "colab_type": "text",
    "id": "M99JmIX4Vp-2"
   },
   "source": [
    "# 7. Какой фильм самый убыточный? "
   ]
  },
  {
   "cell_type": "code",
   "execution_count": 17,
   "metadata": {
    "colab": {},
    "colab_type": "code",
    "id": "w-D2m4XPVp-3"
   },
   "outputs": [],
   "source": [
    "answers['7'] = '5. The Lone Ranger (tt1210819)'"
   ]
  },
  {
   "cell_type": "code",
   "execution_count": 18,
   "metadata": {},
   "outputs": [
    {
     "name": "stdout",
     "output_type": "stream",
     "text": [
      "The Lone Ranger (tt1210819)\n"
     ]
    }
   ],
   "source": [
    "most_unprofitable_movie = data[data.profit == data.profit.min()]\n",
    "\n",
    "answer = \"%s (%s)\" % (str(most_unprofitable_movie.original_title.item()), str(\n",
    "    most_unprofitable_movie.imdb_id.item()))\n",
    "\n",
    "print(answer)"
   ]
  },
  {
   "cell_type": "markdown",
   "metadata": {
    "colab_type": "text",
    "id": "wEOM5ERVVp-6"
   },
   "source": [
    "# 8. У скольких фильмов из датасета объем сборов оказался выше бюджета?"
   ]
  },
  {
   "cell_type": "code",
   "execution_count": 19,
   "metadata": {
    "colab": {},
    "colab_type": "code",
    "id": "y00_7HD6Vp-7"
   },
   "outputs": [],
   "source": [
    "answers['8'] = '1. 1478'"
   ]
  },
  {
   "cell_type": "code",
   "execution_count": 20,
   "metadata": {},
   "outputs": [
    {
     "name": "stdout",
     "output_type": "stream",
     "text": [
      "1478\n"
     ]
    }
   ],
   "source": [
    "revenue_over_budget = data[data.revenue > data.budget]\n",
    "\n",
    "answer = revenue_over_budget.shape[0]\n",
    "\n",
    "print(answer)"
   ]
  },
  {
   "cell_type": "markdown",
   "metadata": {
    "colab_type": "text",
    "id": "xhpspA9KVp_A"
   },
   "source": [
    "# 9. Какой фильм оказался самым кассовым в 2008 году?"
   ]
  },
  {
   "cell_type": "code",
   "execution_count": 21,
   "metadata": {
    "colab": {},
    "colab_type": "code",
    "id": "MoUyQr9RVp_B"
   },
   "outputs": [],
   "source": [
    "answers['9'] = '4. The Dark Knight (tt0468569)'"
   ]
  },
  {
   "cell_type": "code",
   "execution_count": 22,
   "metadata": {},
   "outputs": [
    {
     "name": "stdout",
     "output_type": "stream",
     "text": [
      "The Dark Knight (tt0468569)\n"
     ]
    }
   ],
   "source": [
    "movies_2008 = data[data.release_year == 2008]\n",
    "\n",
    "highest_grossing_movie_2008 = movies_2008[movies_2008.revenue ==\n",
    "                                          movies_2008.revenue.max()]\n",
    "\n",
    "answer = \"%s (%s)\" % (str(highest_grossing_movie_2008.original_title.item()), str(\n",
    "    highest_grossing_movie_2008.imdb_id.item()))\n",
    "\n",
    "print(answer)"
   ]
  },
  {
   "cell_type": "markdown",
   "metadata": {
    "colab_type": "text",
    "id": "Zi4hDKidVp_F"
   },
   "source": [
    "# 10. Самый убыточный фильм за период с 2012 по 2014 г. (включительно)?\n"
   ]
  },
  {
   "cell_type": "code",
   "execution_count": 23,
   "metadata": {
    "colab": {},
    "colab_type": "code",
    "id": "XqyRmufJVp_F"
   },
   "outputs": [],
   "source": [
    "answers['10'] = '5. The Lone Ranger (tt1210819)'"
   ]
  },
  {
   "cell_type": "code",
   "execution_count": 24,
   "metadata": {},
   "outputs": [
    {
     "name": "stdout",
     "output_type": "stream",
     "text": [
      "The Lone Ranger (tt1210819)\n"
     ]
    }
   ],
   "source": [
    "movies_2012_2014 = data[(data.release_year >= 2012) &\n",
    "                        (data.release_year <= 2014)]\n",
    "\n",
    "most_unprof_movie_2012_2014 = movies_2012_2014[movies_2012_2014.profit ==\n",
    "                                               movies_2012_2014.profit.min()]\n",
    "\n",
    "answer = \"%s (%s)\" % (str(most_unprof_movie_2012_2014.original_title.item()), str(\n",
    "    most_unprof_movie_2012_2014.imdb_id.item()))\n",
    "\n",
    "print(answer)"
   ]
  },
  {
   "cell_type": "markdown",
   "metadata": {
    "colab_type": "text",
    "id": "EA7Sa9dkVp_I"
   },
   "source": [
    "# 11. Какого жанра фильмов больше всего?"
   ]
  },
  {
   "cell_type": "code",
   "execution_count": 25,
   "metadata": {
    "colab": {},
    "colab_type": "code",
    "id": "zsJAwJ8QVp_J"
   },
   "outputs": [],
   "source": [
    "answers['11'] = '3. Drama'"
   ]
  },
  {
   "cell_type": "code",
   "execution_count": 26,
   "metadata": {},
   "outputs": [
    {
     "name": "stdout",
     "output_type": "stream",
     "text": [
      "Drama\n"
     ]
    }
   ],
   "source": [
    "most_popular_genre = data.genres.str.split(\n",
    "    '|', expand=True).stack().value_counts().index[0]\n",
    "\n",
    "print(most_popular_genre)"
   ]
  },
  {
   "cell_type": "markdown",
   "metadata": {
    "colab_type": "text",
    "id": "T9_bPWpkVp_Q"
   },
   "source": [
    "# 12. Фильмы какого жанра чаще всего становятся прибыльными? "
   ]
  },
  {
   "cell_type": "code",
   "execution_count": 27,
   "metadata": {
    "colab": {},
    "colab_type": "code",
    "id": "Tmt8MaK1Vp_R"
   },
   "outputs": [],
   "source": [
    "answers['12'] = '1. Drama'"
   ]
  },
  {
   "cell_type": "code",
   "execution_count": 28,
   "metadata": {},
   "outputs": [
    {
     "name": "stdout",
     "output_type": "stream",
     "text": [
      "Drama\n"
     ]
    }
   ],
   "source": [
    "profit_genres = pd.DataFrame(data={'genre': [], 'profit': []})\n",
    "\n",
    "iters = 0\n",
    "for i in data.genres.str.split('|', expand=True).stack().value_counts().index:\n",
    "    temp = data[data.genres.str.contains(i)]\n",
    "    profit_genres.loc[iters] = [i, temp[temp.profit > 0].shape[0]]\n",
    "    iters += 1\n",
    "\n",
    "max_profit_genre = profit_genres[profit_genres.profit ==\n",
    "                                 profit_genres.profit.max()]\n",
    "\n",
    "answer = max_profit_genre.genre.item()\n",
    "\n",
    "print(answer)"
   ]
  },
  {
   "cell_type": "markdown",
   "metadata": {
    "colab_type": "text",
    "id": "0F23bgsDVp_U"
   },
   "source": [
    "# 13. У какого режиссера самые большие суммарные кассовые сборы?"
   ]
  },
  {
   "cell_type": "code",
   "execution_count": 29,
   "metadata": {
    "colab": {},
    "colab_type": "code",
    "id": "K6Z3J8ygVp_X"
   },
   "outputs": [],
   "source": [
    "answers['13'] = '5. Peter Jackson'"
   ]
  },
  {
   "cell_type": "code",
   "execution_count": 30,
   "metadata": {},
   "outputs": [
    {
     "name": "stdout",
     "output_type": "stream",
     "text": [
      "Peter Jackson\n"
     ]
    }
   ],
   "source": [
    "directors_revenue = pd.DataFrame(data={'director': [], 'revenue': []})\n",
    "\n",
    "iters = 0\n",
    "for director in data.director.str.split('|', expand=True).stack().value_counts().index:\n",
    "    revenue = data[data.director.str.contains(director)].revenue.sum()\n",
    "    directors_revenue.loc[iters] = [director, revenue]\n",
    "    iters += 1\n",
    "\n",
    "answer = directors_revenue[directors_revenue.revenue ==\n",
    "                           directors_revenue.revenue.max()].director.item()\n",
    "\n",
    "print(answer)"
   ]
  },
  {
   "cell_type": "markdown",
   "metadata": {
    "colab_type": "text",
    "id": "PsYC9FgRVp_a"
   },
   "source": [
    "# 14. Какой режисер снял больше всего фильмов в стиле Action?"
   ]
  },
  {
   "cell_type": "code",
   "execution_count": 31,
   "metadata": {
    "colab": {},
    "colab_type": "code",
    "id": "wd2M-wHeVp_b"
   },
   "outputs": [],
   "source": [
    "answers['14'] = '3. Robert Rodriguez'"
   ]
  },
  {
   "cell_type": "code",
   "execution_count": 32,
   "metadata": {},
   "outputs": [
    {
     "name": "stdout",
     "output_type": "stream",
     "text": [
      "Robert Rodriguez\n"
     ]
    }
   ],
   "source": [
    "directors_act_films = pd.DataFrame(data={'director': [], 'action_films': []})\n",
    "\n",
    "iters = 0\n",
    "for director in data.director.str.split('|', expand=True).stack().value_counts().index:\n",
    "    temp = data[data.director.str.contains(director)]\n",
    "    action_films = temp[temp.genres.str.contains('Action')].shape[0]\n",
    "    directors_act_films.loc[iters] = [director, action_films]\n",
    "    iters += 1\n",
    "\n",
    "answer = directors_act_films[directors_act_films.action_films ==\n",
    "                             directors_act_films.action_films.max()].director.item()\n",
    "\n",
    "print(answer)"
   ]
  },
  {
   "cell_type": "markdown",
   "metadata": {
    "colab_type": "text",
    "id": "PQ0KciD7Vp_f"
   },
   "source": [
    "# 15. Фильмы с каким актером принесли самые высокие кассовые сборы в 2012 году? "
   ]
  },
  {
   "cell_type": "code",
   "execution_count": 33,
   "metadata": {},
   "outputs": [],
   "source": [
    "answers['15'] = '3. Chris Hemsworth'"
   ]
  },
  {
   "cell_type": "code",
   "execution_count": 34,
   "metadata": {
    "colab": {},
    "colab_type": "code",
    "id": "aga62oeKVp_g"
   },
   "outputs": [
    {
     "name": "stdout",
     "output_type": "stream",
     "text": [
      "Chris Hemsworth\n"
     ]
    }
   ],
   "source": [
    "data_2012 = data[data.release_year == 2012]\n",
    "\n",
    "actors_revenue = pd.DataFrame(data={'actor': [], 'revenue_2012': []})\n",
    "\n",
    "iters = 0\n",
    "for actor in data_2012.cast.str.split('|', expand=True).stack().value_counts().index:\n",
    "    revenue = data_2012[data_2012.cast.str.contains(actor)].revenue.sum()\n",
    "    actors_revenue.loc[iters] = [actor, revenue]\n",
    "    iters += 1\n",
    "\n",
    "answer = actors_revenue[actors_revenue.revenue_2012 ==\n",
    "                        actors_revenue.revenue_2012.max()].actor.item()\n",
    "\n",
    "print(answer)"
   ]
  },
  {
   "cell_type": "markdown",
   "metadata": {
    "colab_type": "text",
    "id": "mWHyyL7QVp_j"
   },
   "source": [
    "# 16. Какой актер снялся в большем количестве высокобюджетных фильмов?"
   ]
  },
  {
   "cell_type": "code",
   "execution_count": 35,
   "metadata": {
    "colab": {},
    "colab_type": "code",
    "id": "qQtmHKTFVp_k"
   },
   "outputs": [],
   "source": [
    "answers['16'] = '3. Matt Damon'"
   ]
  },
  {
   "cell_type": "code",
   "execution_count": 36,
   "metadata": {},
   "outputs": [
    {
     "name": "stdout",
     "output_type": "stream",
     "text": [
      "Matt Damon\n"
     ]
    }
   ],
   "source": [
    "actors_bbmovies = pd.DataFrame(data={'actor': [], 'big_budget_movies': []})\n",
    "\n",
    "mean_budget = data.budget.mean()\n",
    "\n",
    "iters = 0\n",
    "for actor in data.cast.str.split('|', expand=True).stack().value_counts().index:\n",
    "    temp = data[data.cast.str.contains(actor)]\n",
    "    movies = temp[temp.budget > mean_budget].shape[0]\n",
    "    actors_bbmovies.loc[iters] = [actor, movies]\n",
    "    iters += 1\n",
    "\n",
    "answer = actors_bbmovies[actors_bbmovies.big_budget_movies ==\n",
    "                         actors_bbmovies.big_budget_movies.max()].actor.item()\n",
    "\n",
    "print(answer)"
   ]
  },
  {
   "cell_type": "markdown",
   "metadata": {
    "colab_type": "text",
    "id": "NIh6AaW5Vp_n"
   },
   "source": [
    "# 17. В фильмах какого жанра больше всего снимался Nicolas Cage? "
   ]
  },
  {
   "cell_type": "code",
   "execution_count": 37,
   "metadata": {
    "colab": {},
    "colab_type": "code",
    "id": "H74SJDIBVp_n"
   },
   "outputs": [],
   "source": [
    "answers['17'] = '2. Action'"
   ]
  },
  {
   "cell_type": "code",
   "execution_count": 38,
   "metadata": {},
   "outputs": [
    {
     "name": "stdout",
     "output_type": "stream",
     "text": [
      "Action\n"
     ]
    }
   ],
   "source": [
    "nic_cage_movies = data[data.cast.str.contains('Nicolas Cage')]\n",
    "\n",
    "answer = nic_cage_movies.genres.str.split(\n",
    "    '|', expand=True).stack().value_counts().index[0]\n",
    "\n",
    "print(answer)"
   ]
  },
  {
   "cell_type": "markdown",
   "metadata": {
    "colab_type": "text",
    "id": "RqOmPRfWVp_q"
   },
   "source": [
    "# 18. Самый убыточный фильм от Paramount Pictures"
   ]
  },
  {
   "cell_type": "code",
   "execution_count": 39,
   "metadata": {
    "colab": {},
    "colab_type": "code",
    "id": "9E_B0Y96Vp_r"
   },
   "outputs": [],
   "source": [
    "answers['18'] = '1. K-19: The Widowmaker (tt0267626)'"
   ]
  },
  {
   "cell_type": "code",
   "execution_count": 40,
   "metadata": {},
   "outputs": [
    {
     "name": "stdout",
     "output_type": "stream",
     "text": [
      "K-19: The Widowmaker (tt0267626)\n"
     ]
    }
   ],
   "source": [
    "paramount_pic_movies = data[data.production_companies.str.contains(\n",
    "    'Paramount Pictures')]\n",
    "\n",
    "most_unprof_movie = paramount_pic_movies[paramount_pic_movies.profit ==\n",
    "                                         paramount_pic_movies.profit.min()]\n",
    "\n",
    "answer = \"%s (%s)\" % (str(most_unprof_movie.original_title.item()),\n",
    "                      str(most_unprof_movie.imdb_id.item()))\n",
    "\n",
    "print(answer)"
   ]
  },
  {
   "cell_type": "markdown",
   "metadata": {
    "colab_type": "text",
    "id": "vS8Ur6ddVp_u"
   },
   "source": [
    "# 19. Какой год стал самым успешным по суммарным кассовым сборам?"
   ]
  },
  {
   "cell_type": "code",
   "execution_count": 41,
   "metadata": {
    "colab": {},
    "colab_type": "code",
    "id": "Dnbt4GdIVp_v"
   },
   "outputs": [],
   "source": [
    "answers['19'] = '5. 2015'"
   ]
  },
  {
   "cell_type": "code",
   "execution_count": 42,
   "metadata": {},
   "outputs": [
    {
     "name": "stdout",
     "output_type": "stream",
     "text": [
      "2015\n"
     ]
    }
   ],
   "source": [
    "revenue_years = pd.DataFrame(data={'release_year': [], 'sum_revenue': []})\n",
    "\n",
    "iters = 0\n",
    "for year in data.release_year.value_counts().index:\n",
    "    revenue = data[data.release_year == year].revenue.sum()\n",
    "    revenue_years.loc[iters] = [str(year), revenue]\n",
    "    iters += 1\n",
    "\n",
    "answer = revenue_years[revenue_years.sum_revenue ==\n",
    "                       revenue_years.sum_revenue.max()].release_year.item()\n",
    "\n",
    "print(answer)"
   ]
  },
  {
   "cell_type": "markdown",
   "metadata": {
    "colab_type": "text",
    "id": "JAzJh4QAVp_z"
   },
   "source": [
    "# 20. Какой самый прибыльный год для студии Warner Bros?"
   ]
  },
  {
   "cell_type": "code",
   "execution_count": 43,
   "metadata": {
    "colab": {},
    "colab_type": "code",
    "id": "wgVu02DEVp_0"
   },
   "outputs": [],
   "source": [
    "answers['20'] = '1. 2014'"
   ]
  },
  {
   "cell_type": "code",
   "execution_count": 44,
   "metadata": {},
   "outputs": [
    {
     "name": "stdout",
     "output_type": "stream",
     "text": [
      "2014\n"
     ]
    }
   ],
   "source": [
    "warner_bros_movies = data[data.production_companies.str.contains(\n",
    "    'Warner Bros')]\n",
    "\n",
    "warner_bros_movies\n",
    "\n",
    "profit_years = pd.DataFrame(data={'release_year': [], 'profit': []})\n",
    "\n",
    "iters = 0\n",
    "for year in warner_bros_movies.release_year.value_counts().index:\n",
    "    profit = warner_bros_movies[warner_bros_movies.release_year == year].profit.sum()\n",
    "    profit_years.loc[iters] = [str(year), profit]\n",
    "    iters += 1\n",
    "\n",
    "answer = profit_years[profit_years.profit ==\n",
    "                      profit_years.profit.max()].release_year.item()\n",
    "\n",
    "print(answer)"
   ]
  },
  {
   "cell_type": "markdown",
   "metadata": {
    "colab_type": "text",
    "id": "8Im1S2HRVp_4"
   },
   "source": [
    "# 21. В каком месяце за все годы суммарно вышло больше всего фильмов?"
   ]
  },
  {
   "cell_type": "code",
   "execution_count": 45,
   "metadata": {
    "colab": {},
    "colab_type": "code",
    "id": "lev6TH7gVp_4"
   },
   "outputs": [],
   "source": [
    "answers['21'] = '4. Сентябрь'"
   ]
  },
  {
   "cell_type": "code",
   "execution_count": 46,
   "metadata": {},
   "outputs": [
    {
     "name": "stdout",
     "output_type": "stream",
     "text": [
      "September\n"
     ]
    }
   ],
   "source": [
    "answer = data.month.value_counts().index[0]\n",
    "\n",
    "print(answer)"
   ]
  },
  {
   "cell_type": "markdown",
   "metadata": {
    "colab_type": "text",
    "id": "uAJsZ_NeVp_7"
   },
   "source": [
    "# 22. Сколько суммарно вышло фильмов летом? (за июнь, июль, август)"
   ]
  },
  {
   "cell_type": "code",
   "execution_count": 47,
   "metadata": {
    "colab": {},
    "colab_type": "code",
    "id": "Aa-hEREoVp_8"
   },
   "outputs": [],
   "source": [
    "answers['22'] = '2. 450'"
   ]
  },
  {
   "cell_type": "code",
   "execution_count": 48,
   "metadata": {},
   "outputs": [
    {
     "name": "stdout",
     "output_type": "stream",
     "text": [
      "450\n"
     ]
    }
   ],
   "source": [
    "summer_movies = data[data.season == 'Summer']\n",
    "answer = summer_movies.shape[0]\n",
    "\n",
    "print(answer)"
   ]
  },
  {
   "cell_type": "markdown",
   "metadata": {
    "colab_type": "text",
    "id": "G94ppOY1VqAA"
   },
   "source": [
    "# 23. Для какого режиссера зима – самое продуктивное время года? "
   ]
  },
  {
   "cell_type": "code",
   "execution_count": 49,
   "metadata": {
    "colab": {},
    "colab_type": "code",
    "id": "RhNTsamuVqAB"
   },
   "outputs": [],
   "source": [
    "answers['23'] = '5. Peter Jackson'"
   ]
  },
  {
   "cell_type": "code",
   "execution_count": 50,
   "metadata": {},
   "outputs": [
    {
     "name": "stdout",
     "output_type": "stream",
     "text": [
      "Peter Jackson\n"
     ]
    }
   ],
   "source": [
    "winter_movies = data[data.season == 'Winter']\n",
    "\n",
    "answer = winter_movies.director.str.split(\n",
    "    '|', expand=True).stack().value_counts().index[0]\n",
    "\n",
    "print(answer)"
   ]
  },
  {
   "cell_type": "markdown",
   "metadata": {
    "colab_type": "text",
    "id": "RBo0JVjVVqAF"
   },
   "source": [
    "# 24. Какая студия дает самые длинные названия своим фильмам по количеству символов?"
   ]
  },
  {
   "cell_type": "code",
   "execution_count": 51,
   "metadata": {
    "colab": {},
    "colab_type": "code",
    "id": "QRGS8L0iVqAG"
   },
   "outputs": [],
   "source": [
    "answers['24'] = '5. Four By Two Productions'"
   ]
  },
  {
   "cell_type": "code",
   "execution_count": 61,
   "metadata": {},
   "outputs": [
    {
     "name": "stderr",
     "output_type": "stream",
     "text": [
      "/Users/aallavi/opt/anaconda3/lib/python3.7/site-packages/pandas/core/strings.py:1952: UserWarning: This pattern has match groups. To actually get the groups, use str.extract.\n",
      "  return func(self, *args, **kwargs)\n"
     ]
    },
    {
     "name": "stdout",
     "output_type": "stream",
     "text": [
      "['Twentieth Century Fox Film Corporation', 'Four By Two Productions', 'Twentieth Century Fox']\n"
     ]
    }
   ],
   "source": [
    "name_lengths = pd.DataFrame(data={'companie': [], 'max_name_length': []})\n",
    "\n",
    "iters = 0\n",
    "for company in data.production_companies.str.split('|', expand=True).stack().value_counts().index:\n",
    "    max_lenght = data[data.production_companies.str.contains(\n",
    "        company)].name_length.max()\n",
    "    name_lengths.loc[iters] = [company, max_lenght]\n",
    "    iters += 1\n",
    "\n",
    "answer = list(name_lengths[name_lengths.max_name_length ==\n",
    "                           name_lengths.max_name_length.max()].companie)\n",
    "\n",
    "print(answer)"
   ]
  },
  {
   "cell_type": "markdown",
   "metadata": {
    "colab_type": "text",
    "id": "9G0hbvR7VqAK"
   },
   "source": [
    "# 25. Описание фильмов какой студии в среднем самые длинные по количеству слов?"
   ]
  },
  {
   "cell_type": "code",
   "execution_count": 53,
   "metadata": {
    "colab": {},
    "colab_type": "code",
    "id": "Ge2GsLNxVqAK"
   },
   "outputs": [],
   "source": [
    "answers['25'] = '3. Midnight Picture Show'"
   ]
  },
  {
   "cell_type": "code",
   "execution_count": 54,
   "metadata": {},
   "outputs": [
    {
     "name": "stdout",
     "output_type": "stream",
     "text": [
      "Midnight Picture Show\n"
     ]
    }
   ],
   "source": [
    "overview_length = pd.DataFrame(\n",
    "    data={'companie': [], 'mean_overview_length': []})\n",
    "\n",
    "# overview_length\n",
    "\n",
    "iters = 0\n",
    "for company in data.production_companies.str.split('|', expand=True).stack().value_counts().index:\n",
    "    mean_overview_length = data[data.production_companies.str.contains(\n",
    "        company)].overview_length.mean()\n",
    "    overview_length.loc[iters] = [company, mean_overview_length]\n",
    "    iters += 1\n",
    "\n",
    "overview_length[overview_length.mean_overview_length ==\n",
    "                overview_length.mean_overview_length.max()]\n",
    "\n",
    "answer = \"%s\" % (overview_length[overview_length.mean_overview_length ==\n",
    "                                 overview_length.mean_overview_length.max()].companie.item())\n",
    "\n",
    "print(answer)"
   ]
  },
  {
   "cell_type": "markdown",
   "metadata": {
    "colab_type": "text",
    "id": "FJ1AFt90VqAP"
   },
   "source": [
    "# 26. Какие фильмы входят в 1 процент лучших по рейтингу? "
   ]
  },
  {
   "cell_type": "code",
   "execution_count": 55,
   "metadata": {
    "colab": {},
    "colab_type": "code",
    "id": "8qmJVq4CVqAQ"
   },
   "outputs": [],
   "source": [
    "answers['26'] = '1. Inside Out, The Dark Knight, 12 Years a Slave'"
   ]
  },
  {
   "cell_type": "code",
   "execution_count": 56,
   "metadata": {},
   "outputs": [
    {
     "name": "stdout",
     "output_type": "stream",
     "text": [
      "['Inside Out', 'Spotlight', 'Room', 'Interstellar', 'Guardians of the Galaxy', 'Big Hero 6', 'The Imitation Game', 'Gone Girl', 'The Grand Budapest Hotel', 'The Theory of Everything', 'The Fault in Our Stars', 'Mr. Nobody', '3 Idiots', 'Inception', 'The Lord of the Rings: The Fellowship of the Ring', 'The Dark Knight', 'The Lord of the Rings: The Two Towers', 'The Pianist', 'The Lord of the Rings: The Return of the King', 'The Wolf of Wall Street', 'Her', '12 Years a Slave', 'Prisoners', 'Dallas Buyers Club', 'The Prestige', 'Eternal Sunshine of the Spotless Mind', 'There Will Be Blood', 'Memento']\n"
     ]
    }
   ],
   "source": [
    "data.vote_average.value_counts(normalize=True, bins=16).reset_index()\n",
    "\n",
    "for i in range(1, 100):\n",
    "    df = data.vote_average.value_counts(normalize=True, bins=i)\n",
    "    if int(round(df[df.index.max()] * 100)) == 1:\n",
    "        break\n",
    "\n",
    "left = df.index.max().left\n",
    "right = df.index.max().right\n",
    "\n",
    "answer = list(data[(data.vote_average > left) & (\n",
    "    data.vote_average <= right)].original_title)\n",
    "\n",
    "print(answer)"
   ]
  },
  {
   "cell_type": "markdown",
   "metadata": {
    "colab_type": "text",
    "id": "MdXsUXbCVqAV"
   },
   "source": [
    "# 27. Какие актеры чаще всего снимаются в одном фильме вместе?\n"
   ]
  },
  {
   "cell_type": "code",
   "execution_count": 57,
   "metadata": {},
   "outputs": [],
   "source": [
    "answers['27'] = '5. Daniel Radcliffe & Rupert Grint'"
   ]
  },
  {
   "cell_type": "code",
   "execution_count": 58,
   "metadata": {},
   "outputs": [
    {
     "name": "stdout",
     "output_type": "stream",
     "text": [
      "Daniel Radcliffe & Rupert Grint\n"
     ]
    }
   ],
   "source": [
    "df = data.cast.str.split('|')\n",
    "\n",
    "dic = {}\n",
    "\n",
    "for lst in df:\n",
    "    for i in range(len(lst)):\n",
    "        for j in range(len(lst)):\n",
    "            if (lst[i] + ' & ' + lst[j] in dic.keys()):\n",
    "                dic[lst[i] + ' & ' + lst[j]] += 1\n",
    "            elif (lst[i] != lst[j]) and not (lst[j] + ' & ' + lst[i]) in dic.keys():\n",
    "                dic[lst[i] + ' & ' + lst[j]] = 1\n",
    "\n",
    "\n",
    "act = pd.DataFrame(data={'couple': [], 'freq': []})\n",
    "answer = max(dic, key=dic.get)\n",
    "\n",
    "print(answer)"
   ]
  },
  {
   "cell_type": "markdown",
   "metadata": {
    "colab_type": "text",
    "id": "U0nONFnGVqAX"
   },
   "source": [
    "# Submission"
   ]
  },
  {
   "cell_type": "markdown",
   "metadata": {},
   "source": [
    "Answers to questions"
   ]
  },
  {
   "cell_type": "code",
   "execution_count": 59,
   "metadata": {
    "colab": {},
    "colab_type": "code",
    "id": "IfcaRO9-VqAX",
    "outputId": "0f132912-32bb-4196-c98c-abfbc4ad5a5f"
   },
   "outputs": [
    {
     "data": {
      "text/plain": [
       "{'1': '5. Pirates of the Caribbean: On Stranger Tides (tt1298650)',\n",
       " '2': '2. Gods and Generals (tt0279111)',\n",
       " '3': '3. Winnie the Pooh (tt1449283)',\n",
       " '4': '2. 110',\n",
       " '5': '1. 107',\n",
       " '6': '5. Avatar (tt0499549)',\n",
       " '7': '5. The Lone Ranger (tt1210819)',\n",
       " '8': '1. 1478',\n",
       " '9': '4. The Dark Knight (tt0468569)',\n",
       " '10': '5. The Lone Ranger (tt1210819)',\n",
       " '11': '3. Drama',\n",
       " '12': '1. Drama',\n",
       " '13': '5. Peter Jackson',\n",
       " '14': '3. Robert Rodriguez',\n",
       " '15': '3. Chris Hemsworth',\n",
       " '16': '3. Matt Damon',\n",
       " '17': '2. Action',\n",
       " '18': '1. K-19: The Widowmaker (tt0267626)',\n",
       " '19': '5. 2015',\n",
       " '20': '1. 2014',\n",
       " '21': '4. Сентябрь',\n",
       " '22': '2. 450',\n",
       " '23': '5. Peter Jackson',\n",
       " '24': '5. Four By Two Productions',\n",
       " '25': '3. Midnight Picture Show',\n",
       " '26': '1. Inside Out, The Dark Knight, 12 Years a Slave',\n",
       " '27': '5. Daniel Radcliffe & Rupert Grint'}"
      ]
     },
     "execution_count": 59,
     "metadata": {},
     "output_type": "execute_result"
    }
   ],
   "source": [
    "answers"
   ]
  },
  {
   "cell_type": "code",
   "execution_count": 60,
   "metadata": {
    "colab": {},
    "colab_type": "code",
    "id": "SiRmHPl8VqAd"
   },
   "outputs": [
    {
     "data": {
      "text/plain": [
       "27"
      ]
     },
     "execution_count": 60,
     "metadata": {},
     "output_type": "execute_result"
    }
   ],
   "source": [
    "len(answers)"
   ]
  }
 ],
 "metadata": {
  "colab": {
   "name": "Copy of [SF-DST] Movies IMBD v4.1 TEMPLATE.ipynb",
   "provenance": []
  },
  "kernelspec": {
   "display_name": "Python 3",
   "language": "python",
   "name": "python3"
  },
  "language_info": {
   "codemirror_mode": {
    "name": "ipython",
    "version": 3
   },
   "file_extension": ".py",
   "mimetype": "text/x-python",
   "name": "python",
   "nbconvert_exporter": "python",
   "pygments_lexer": "ipython3",
   "version": "3.7.6"
  }
 },
 "nbformat": 4,
 "nbformat_minor": 1
}
